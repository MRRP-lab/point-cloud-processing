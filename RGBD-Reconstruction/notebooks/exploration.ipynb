{
 "cells": [
  {
   "cell_type": "markdown",
   "id": "9af38783",
   "metadata": {},
   "source": [
    "Use this to work with LAS files or test functions"
   ]
  }
 ],
 "metadata": {
  "language_info": {
   "name": "python"
  }
 },
 "nbformat": 4,
 "nbformat_minor": 5
}
